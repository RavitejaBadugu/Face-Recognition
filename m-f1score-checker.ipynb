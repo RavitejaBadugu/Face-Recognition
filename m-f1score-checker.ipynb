{
 "cells": [
  {
   "cell_type": "code",
   "execution_count": 1,
   "id": "207ec42c",
   "metadata": {
    "execution": {
     "iopub.execute_input": "2023-07-10T18:50:18.683323Z",
     "iopub.status.busy": "2023-07-10T18:50:18.682906Z",
     "iopub.status.idle": "2023-07-10T18:50:28.111931Z",
     "shell.execute_reply": "2023-07-10T18:50:28.110930Z"
    },
    "papermill": {
     "duration": 9.442344,
     "end_time": "2023-07-10T18:50:28.114324",
     "exception": false,
     "start_time": "2023-07-10T18:50:18.671980",
     "status": "completed"
    },
    "tags": []
   },
   "outputs": [
    {
     "name": "stderr",
     "output_type": "stream",
     "text": [
      "/opt/conda/lib/python3.10/site-packages/tensorflow_io/python/ops/__init__.py:98: UserWarning: unable to load libtensorflow_io_plugins.so: unable to open file: libtensorflow_io_plugins.so, from paths: ['/opt/conda/lib/python3.10/site-packages/tensorflow_io/python/ops/libtensorflow_io_plugins.so']\n",
      "caused by: ['/opt/conda/lib/python3.10/site-packages/tensorflow_io/python/ops/libtensorflow_io_plugins.so: undefined symbol: _ZN3tsl6StatusC1EN10tensorflow5error4CodeESt17basic_string_viewIcSt11char_traitsIcEENS_14SourceLocationE']\n",
      "  warnings.warn(f\"unable to load libtensorflow_io_plugins.so: {e}\")\n",
      "/opt/conda/lib/python3.10/site-packages/tensorflow_io/python/ops/__init__.py:104: UserWarning: file system plugins are not loaded: unable to open file: libtensorflow_io.so, from paths: ['/opt/conda/lib/python3.10/site-packages/tensorflow_io/python/ops/libtensorflow_io.so']\n",
      "caused by: ['/opt/conda/lib/python3.10/site-packages/tensorflow_io/python/ops/libtensorflow_io.so: undefined symbol: _ZTVN10tensorflow13GcsFileSystemE']\n",
      "  warnings.warn(f\"file system plugins are not loaded: {e}\")\n"
     ]
    }
   ],
   "source": [
    "import io\n",
    "import wandb\n",
    "import numpy as np\n",
    "import pandas as pd\n",
    "import tensorflow as tf\n",
    "from tqdm import tqdm\n",
    "from sklearn.metrics import f1_score\n",
    "from kaggle_datasets import KaggleDatasets\n",
    "import matplotlib.pyplot as plt\n",
    "import seaborn as sn\n",
    "%matplotlib inline"
   ]
  },
  {
   "cell_type": "code",
   "execution_count": 2,
   "id": "d9ebf90f",
   "metadata": {
    "execution": {
     "iopub.execute_input": "2023-07-10T18:50:28.134656Z",
     "iopub.status.busy": "2023-07-10T18:50:28.132932Z",
     "iopub.status.idle": "2023-07-10T18:50:28.360894Z",
     "shell.execute_reply": "2023-07-10T18:50:28.359601Z"
    },
    "papermill": {
     "duration": 0.24047,
     "end_time": "2023-07-10T18:50:28.363888",
     "exception": false,
     "start_time": "2023-07-10T18:50:28.123418",
     "status": "completed"
    },
    "tags": []
   },
   "outputs": [],
   "source": [
    "from kaggle_secrets import UserSecretsClient\n",
    "user_secrets = UserSecretsClient()\n",
    "secret_value_0 = user_secrets.get_secret(\"wandb_api\")"
   ]
  },
  {
   "cell_type": "code",
   "execution_count": 3,
   "id": "0d2ea062",
   "metadata": {
    "execution": {
     "iopub.execute_input": "2023-07-10T18:50:28.382820Z",
     "iopub.status.busy": "2023-07-10T18:50:28.382475Z",
     "iopub.status.idle": "2023-07-10T18:50:30.453227Z",
     "shell.execute_reply": "2023-07-10T18:50:30.452296Z"
    },
    "papermill": {
     "duration": 2.082563,
     "end_time": "2023-07-10T18:50:30.455420",
     "exception": false,
     "start_time": "2023-07-10T18:50:28.372857",
     "status": "completed"
    },
    "tags": []
   },
   "outputs": [
    {
     "name": "stderr",
     "output_type": "stream",
     "text": [
      "\u001b[34m\u001b[1mwandb\u001b[0m: W&B API key is configured. Use \u001b[1m`wandb login --relogin`\u001b[0m to force relogin\n",
      "\u001b[34m\u001b[1mwandb\u001b[0m: \u001b[33mWARNING\u001b[0m If you're specifying your api key in code, ensure this code is not shared publicly.\n",
      "\u001b[34m\u001b[1mwandb\u001b[0m: \u001b[33mWARNING\u001b[0m Consider setting the WANDB_API_KEY environment variable, or running `wandb login` from the command line.\n",
      "\u001b[34m\u001b[1mwandb\u001b[0m: Appending key for api.wandb.ai to your netrc file: /root/.netrc\n"
     ]
    },
    {
     "data": {
      "text/plain": [
       "True"
      ]
     },
     "execution_count": 3,
     "metadata": {},
     "output_type": "execute_result"
    }
   ],
   "source": [
    "wandb.login(key=secret_value_0)"
   ]
  },
  {
   "cell_type": "code",
   "execution_count": 4,
   "id": "067d2eb5",
   "metadata": {
    "execution": {
     "iopub.execute_input": "2023-07-10T18:50:30.476197Z",
     "iopub.status.busy": "2023-07-10T18:50:30.474758Z",
     "iopub.status.idle": "2023-07-10T18:50:31.244023Z",
     "shell.execute_reply": "2023-07-10T18:50:31.243005Z"
    },
    "papermill": {
     "duration": 0.781531,
     "end_time": "2023-07-10T18:50:31.246411",
     "exception": false,
     "start_time": "2023-07-10T18:50:30.464880",
     "status": "completed"
    },
    "tags": []
   },
   "outputs": [],
   "source": [
    "BATCH_SIZE=32\n",
    "GCS_DS_PATH = KaggleDatasets().get_gcs_path(\"kfoldtfrecordspinsdataset\")"
   ]
  },
  {
   "cell_type": "code",
   "execution_count": 5,
   "id": "0242a2aa",
   "metadata": {
    "execution": {
     "iopub.execute_input": "2023-07-10T18:50:31.266478Z",
     "iopub.status.busy": "2023-07-10T18:50:31.265746Z",
     "iopub.status.idle": "2023-07-10T18:50:31.272188Z",
     "shell.execute_reply": "2023-07-10T18:50:31.271321Z"
    },
    "papermill": {
     "duration": 0.018325,
     "end_time": "2023-07-10T18:50:31.274122",
     "exception": false,
     "start_time": "2023-07-10T18:50:31.255797",
     "status": "completed"
    },
    "tags": []
   },
   "outputs": [],
   "source": [
    "def Parse_TfRecords(record):\n",
    "    features={\"image\":tf.io.FixedLenFeature([],tf.string),\n",
    "         \"label\":tf.io.FixedLenFeature([],tf.int64)}\n",
    "    example=tf.io.parse_single_example(record,features=features)\n",
    "    image=tf.io.decode_raw(example['image'],tf.uint8)\n",
    "    image=tf.cast(image,tf.float32)\n",
    "    image=tf.reshape(image,shape=[256,256,3])\n",
    "    image=image/255.0\n",
    "    image=tf.clip_by_value(image, 0.0, 1.0)\n",
    "    label=example['label']\n",
    "    return image,label"
   ]
  },
  {
   "cell_type": "code",
   "execution_count": 6,
   "id": "474a50f9",
   "metadata": {
    "execution": {
     "iopub.execute_input": "2023-07-10T18:50:31.293840Z",
     "iopub.status.busy": "2023-07-10T18:50:31.292917Z",
     "iopub.status.idle": "2023-07-10T18:50:32.009569Z",
     "shell.execute_reply": "2023-07-10T18:50:32.008585Z"
    },
    "papermill": {
     "duration": 0.728673,
     "end_time": "2023-07-10T18:50:32.011823",
     "exception": false,
     "start_time": "2023-07-10T18:50:31.283150",
     "status": "completed"
    },
    "tags": []
   },
   "outputs": [
    {
     "data": {
      "text/plain": [
       "['gs://kds-ade40411c0be59170812b1f7f838c407b46f9a978b1c26c45f9ceaf7/TFRecords/TFRecords/pin_faces_fold_0.tfrec',\n",
       " 'gs://kds-ade40411c0be59170812b1f7f838c407b46f9a978b1c26c45f9ceaf7/TFRecords/TFRecords/pin_faces_fold_1.tfrec',\n",
       " 'gs://kds-ade40411c0be59170812b1f7f838c407b46f9a978b1c26c45f9ceaf7/TFRecords/TFRecords/pin_faces_fold_2.tfrec',\n",
       " 'gs://kds-ade40411c0be59170812b1f7f838c407b46f9a978b1c26c45f9ceaf7/TFRecords/TFRecords/pin_faces_fold_3.tfrec',\n",
       " 'gs://kds-ade40411c0be59170812b1f7f838c407b46f9a978b1c26c45f9ceaf7/TFRecords/TFRecords/pin_faces_fold_4.tfrec']"
      ]
     },
     "execution_count": 6,
     "metadata": {},
     "output_type": "execute_result"
    }
   ],
   "source": [
    "kfolds=tf.io.gfile.glob(f\"{GCS_DS_PATH}/TFRecords/TFRecords/pin_faces_fold_*.tfrec\")\n",
    "kfolds"
   ]
  },
  {
   "cell_type": "code",
   "execution_count": 7,
   "id": "f181e034",
   "metadata": {
    "execution": {
     "iopub.execute_input": "2023-07-10T18:50:32.033989Z",
     "iopub.status.busy": "2023-07-10T18:50:32.033040Z",
     "iopub.status.idle": "2023-07-10T18:50:32.039099Z",
     "shell.execute_reply": "2023-07-10T18:50:32.038147Z"
    },
    "papermill": {
     "duration": 0.019027,
     "end_time": "2023-07-10T18:50:32.041160",
     "exception": false,
     "start_time": "2023-07-10T18:50:32.022133",
     "status": "completed"
    },
    "tags": []
   },
   "outputs": [],
   "source": [
    "def TFRecords_Dataset(folds,BATCH_SIZE):\n",
    "    data=tf.data.TFRecordDataset(folds)\n",
    "    data=data.map(Parse_TfRecords,num_parallel_calls=tf.data.experimental.AUTOTUNE)\n",
    "    data=data.batch(BATCH_SIZE)\n",
    "    data=data.prefetch(tf.data.experimental.AUTOTUNE)\n",
    "    return data "
   ]
  },
  {
   "cell_type": "code",
   "execution_count": 8,
   "id": "ad46ab26",
   "metadata": {
    "execution": {
     "iopub.execute_input": "2023-07-10T18:50:32.064783Z",
     "iopub.status.busy": "2023-07-10T18:50:32.063960Z",
     "iopub.status.idle": "2023-07-10T18:50:32.069379Z",
     "shell.execute_reply": "2023-07-10T18:50:32.068559Z"
    },
    "papermill": {
     "duration": 0.020469,
     "end_time": "2023-07-10T18:50:32.071463",
     "exception": false,
     "start_time": "2023-07-10T18:50:32.050994",
     "status": "completed"
    },
    "tags": []
   },
   "outputs": [],
   "source": [
    "from tensorflow.keras.applications import DenseNet201\n",
    "import math"
   ]
  },
  {
   "cell_type": "code",
   "execution_count": 9,
   "id": "b3cfa606",
   "metadata": {
    "execution": {
     "iopub.execute_input": "2023-07-10T18:50:32.092746Z",
     "iopub.status.busy": "2023-07-10T18:50:32.091861Z",
     "iopub.status.idle": "2023-07-10T18:50:32.102785Z",
     "shell.execute_reply": "2023-07-10T18:50:32.101826Z"
    },
    "papermill": {
     "duration": 0.023667,
     "end_time": "2023-07-10T18:50:32.104794",
     "exception": false,
     "start_time": "2023-07-10T18:50:32.081127",
     "status": "completed"
    },
    "tags": []
   },
   "outputs": [],
   "source": [
    "class ArcFace(tf.keras.layers.Layer):\n",
    "    def __init__(self,m,s,n_classes):\n",
    "        super().__init__()\n",
    "        self.m=m\n",
    "        self.s=s\n",
    "        self.classes=n_classes\n",
    "        self.cos_m=tf.math.cos(m)\n",
    "        self.sin_m=tf.math.sin(m)\n",
    "        self.threshold=tf.math.cos(math.pi-m)\n",
    "        self.mm=tf.math.sin(math.pi-m)*m\n",
    "    \n",
    "    def build(self,input_shape):\n",
    "        prev=input_shape[0][-1]\n",
    "        self.w=self.add_weight(shape=(prev,self.classes),initializer='glorot_uniform',trainable=True,dtype=tf.float32)\n",
    "    \n",
    "    def call(self,inputs):\n",
    "        x,y=inputs\n",
    "        norm_x=tf.linalg.l2_normalize(x,axis=-1)\n",
    "        norm_w=tf.linalg.l2_normalize(self.w,axis=0)\n",
    "        cosine=tf.linalg.matmul(norm_x,norm_w)\n",
    "        sin_theta=tf.sqrt(1.0-tf.square(cosine))\n",
    "        y_one_hot=tf.cast(tf.one_hot(y,self.classes),dtype=tf.float32)\n",
    "        cos_theta_m=(self.cos_m*cosine)-(self.sin_m*sin_theta)    \n",
    "        cos_theta_m=tf.where(cosine>self.threshold,cos_theta_m,cosine-self.mm)\n",
    "        final=(y_one_hot*cos_theta_m)+((1-y_one_hot)*cosine)\n",
    "        final=self.s*final\n",
    "        return final"
   ]
  },
  {
   "cell_type": "code",
   "execution_count": 10,
   "id": "c19d194e",
   "metadata": {
    "execution": {
     "iopub.execute_input": "2023-07-10T18:50:32.126628Z",
     "iopub.status.busy": "2023-07-10T18:50:32.125155Z",
     "iopub.status.idle": "2023-07-10T18:50:32.134861Z",
     "shell.execute_reply": "2023-07-10T18:50:32.133995Z"
    },
    "papermill": {
     "duration": 0.022681,
     "end_time": "2023-07-10T18:50:32.137109",
     "exception": false,
     "start_time": "2023-07-10T18:50:32.114428",
     "status": "completed"
    },
    "tags": []
   },
   "outputs": [],
   "source": [
    "def GetModel(m,path):\n",
    "    s=30.0\n",
    "    neurons=1024\n",
    "    N_CLASSES=100\n",
    "    tf.keras.backend.clear_session()\n",
    "    arc_layer=ArcFace(m,s,N_CLASSES)\n",
    "    pre_trained=DenseNet201(include_top=False,input_shape=(256,256,3))\n",
    "    pre_trained.trainable=True\n",
    "    Y=tf.keras.layers.Input(shape=(),dtype=tf.int32)\n",
    "    x=tf.keras.layers.GlobalAveragePooling2D()(pre_trained.output)\n",
    "    x=tf.keras.layers.BatchNormalization()(x)\n",
    "    x=tf.keras.layers.Dense(units=neurons)(x)\n",
    "    x=tf.keras.layers.BatchNormalization()(x)\n",
    "    x=tf.keras.layers.ReLU()(x)\n",
    "    x=arc_layer((x,Y))\n",
    "    output_layer=tf.keras.layers.Softmax()(x)\n",
    "    model=tf.keras.models.Model(inputs=(pre_trained.input,Y),outputs=output_layer)\n",
    "    model.load_weights(path)\n",
    "    model.trainable=False\n",
    "    emb_model=tf.keras.models.Model(inputs=model.input[0],outputs=model.layers[-4].output)\n",
    "    emb_model.trainable=False\n",
    "    return emb_model"
   ]
  },
  {
   "cell_type": "markdown",
   "id": "f6928c91",
   "metadata": {
    "papermill": {
     "duration": 0.009161,
     "end_time": "2023-07-10T18:50:32.156058",
     "exception": false,
     "start_time": "2023-07-10T18:50:32.146897",
     "status": "completed"
    },
    "tags": []
   },
   "source": [
    "# From 5 persons we will use 3 persons to check how model is working for new faces"
   ]
  },
  {
   "cell_type": "code",
   "execution_count": 11,
   "id": "27993a01",
   "metadata": {
    "execution": {
     "iopub.execute_input": "2023-07-10T18:50:32.175758Z",
     "iopub.status.busy": "2023-07-10T18:50:32.175455Z",
     "iopub.status.idle": "2023-07-10T18:50:32.181683Z",
     "shell.execute_reply": "2023-07-10T18:50:32.180764Z"
    },
    "papermill": {
     "duration": 0.018548,
     "end_time": "2023-07-10T18:50:32.183767",
     "exception": false,
     "start_time": "2023-07-10T18:50:32.165219",
     "status": "completed"
    },
    "tags": []
   },
   "outputs": [],
   "source": [
    "def Get_Embeddings_Labels(tf_data,emb_model,batch_size,data_size):\n",
    "    train_embeddings=np.empty((data_size,1024))\n",
    "    train_labels=np.empty((data_size,),dtype=np.int32)\n",
    "    for batch,(images,labels) in enumerate(tf_data):\n",
    "        temp_embeddings=emb_model.predict(images,verbose=0)\n",
    "        start=batch*batch_size\n",
    "        end=(batch+1)*batch_size\n",
    "        if end>data_size:\n",
    "            end=data_size\n",
    "        train_embeddings[start:end]=temp_embeddings\n",
    "        train_labels[start:end]=labels\n",
    "    return train_embeddings,train_labels"
   ]
  },
  {
   "cell_type": "code",
   "execution_count": 12,
   "id": "9ac08b8f",
   "metadata": {
    "execution": {
     "iopub.execute_input": "2023-07-10T18:50:32.208313Z",
     "iopub.status.busy": "2023-07-10T18:50:32.207469Z",
     "iopub.status.idle": "2023-07-10T18:50:32.214060Z",
     "shell.execute_reply": "2023-07-10T18:50:32.213226Z"
    },
    "papermill": {
     "duration": 0.023027,
     "end_time": "2023-07-10T18:50:32.216025",
     "exception": false,
     "start_time": "2023-07-10T18:50:32.192998",
     "status": "completed"
    },
    "tags": []
   },
   "outputs": [],
   "source": [
    "def Get_Similarity_indexs(query,keys,threshold,top_k):\n",
    "    query=tf.linalg.l2_normalize(query,axis=-1)\n",
    "    cosines=tf.linalg.matmul(query,keys,transpose_b=True)\n",
    "    indices=tf.where(cosines>threshold)\n",
    "    good_cosines=tf.gather_nd(cosines,indices)\n",
    "    indices=indices[:,-1].numpy()\n",
    "    top_good_cosine_idx=tf.argsort(good_cosines,direction='DESCENDING')[:top_k]\n",
    "    top_indx=indices[top_good_cosine_idx.numpy()]\n",
    "    return top_indx"
   ]
  },
  {
   "cell_type": "code",
   "execution_count": 13,
   "id": "507db63b",
   "metadata": {
    "execution": {
     "iopub.execute_input": "2023-07-10T18:50:32.236011Z",
     "iopub.status.busy": "2023-07-10T18:50:32.235759Z",
     "iopub.status.idle": "2023-07-10T18:50:32.240658Z",
     "shell.execute_reply": "2023-07-10T18:50:32.239727Z"
    },
    "papermill": {
     "duration": 0.017363,
     "end_time": "2023-07-10T18:50:32.242723",
     "exception": false,
     "start_time": "2023-07-10T18:50:32.225360",
     "status": "completed"
    },
    "tags": []
   },
   "outputs": [],
   "source": [
    "def Log_Plot(heatmap,group,job_type):\n",
    "    run=wandb.init(project=\"FaceRecognition-kfold\",group=group,job_type=f\"top_k={job_type}\")\n",
    "    run.log({\"heatmap\": wandb.Image(heatmap.get_figure())})\n",
    "    wandb.finish()"
   ]
  },
  {
   "cell_type": "markdown",
   "id": "07b550eb",
   "metadata": {
    "papermill": {
     "duration": 0.009151,
     "end_time": "2023-07-10T18:50:32.260741",
     "exception": false,
     "start_time": "2023-07-10T18:50:32.251590",
     "status": "completed"
    },
    "tags": []
   },
   "source": [
    "# We will check first without having embeddings of these 3 persons in our database. When we send the images what it is predicting. In ideal case we should get 0"
   ]
  },
  {
   "cell_type": "code",
   "execution_count": 14,
   "id": "08e0d93f",
   "metadata": {
    "execution": {
     "iopub.execute_input": "2023-07-10T18:50:32.280074Z",
     "iopub.status.busy": "2023-07-10T18:50:32.279813Z",
     "iopub.status.idle": "2023-07-10T18:50:42.744348Z",
     "shell.execute_reply": "2023-07-10T18:50:42.743381Z"
    },
    "papermill": {
     "duration": 10.476979,
     "end_time": "2023-07-10T18:50:42.746773",
     "exception": false,
     "start_time": "2023-07-10T18:50:32.269794",
     "status": "completed"
    },
    "tags": []
   },
   "outputs": [],
   "source": [
    "df=pd.read_csv(f\"{GCS_DS_PATH}/TFRecords/TFRecords/Train_face.csv\")"
   ]
  },
  {
   "cell_type": "code",
   "execution_count": 15,
   "id": "f6826408",
   "metadata": {
    "execution": {
     "iopub.execute_input": "2023-07-10T18:50:42.767232Z",
     "iopub.status.busy": "2023-07-10T18:50:42.766629Z",
     "iopub.status.idle": "2023-07-10T18:50:42.771297Z",
     "shell.execute_reply": "2023-07-10T18:50:42.770376Z"
    },
    "papermill": {
     "duration": 0.016741,
     "end_time": "2023-07-10T18:50:42.773311",
     "exception": false,
     "start_time": "2023-07-10T18:50:42.756570",
     "status": "completed"
    },
    "tags": []
   },
   "outputs": [],
   "source": [
    "train_size=df.shape[0]"
   ]
  },
  {
   "cell_type": "code",
   "execution_count": 16,
   "id": "e9b548d7",
   "metadata": {
    "execution": {
     "iopub.execute_input": "2023-07-10T18:50:42.792874Z",
     "iopub.status.busy": "2023-07-10T18:50:42.792604Z",
     "iopub.status.idle": "2023-07-10T18:50:43.745555Z",
     "shell.execute_reply": "2023-07-10T18:50:43.744583Z"
    },
    "papermill": {
     "duration": 0.965718,
     "end_time": "2023-07-10T18:50:43.747976",
     "exception": false,
     "start_time": "2023-07-10T18:50:42.782258",
     "status": "completed"
    },
    "tags": []
   },
   "outputs": [],
   "source": [
    "test=pd.read_csv(f\"{GCS_DS_PATH}/TFRecords/TFRecords/Final_Test.csv\")"
   ]
  },
  {
   "cell_type": "code",
   "execution_count": 17,
   "id": "d68a5aea",
   "metadata": {
    "execution": {
     "iopub.execute_input": "2023-07-10T18:50:43.767944Z",
     "iopub.status.busy": "2023-07-10T18:50:43.767268Z",
     "iopub.status.idle": "2023-07-10T18:50:43.778367Z",
     "shell.execute_reply": "2023-07-10T18:50:43.777525Z"
    },
    "papermill": {
     "duration": 0.023058,
     "end_time": "2023-07-10T18:50:43.780253",
     "exception": false,
     "start_time": "2023-07-10T18:50:43.757195",
     "status": "completed"
    },
    "tags": []
   },
   "outputs": [
    {
     "data": {
      "text/plain": [
       "set()"
      ]
     },
     "execution_count": 17,
     "metadata": {},
     "output_type": "execute_result"
    }
   ],
   "source": [
    "set(df['name']).intersection(set(test['name']))"
   ]
  },
  {
   "cell_type": "code",
   "execution_count": 18,
   "id": "33bf4d64",
   "metadata": {
    "execution": {
     "iopub.execute_input": "2023-07-10T18:50:43.800884Z",
     "iopub.status.busy": "2023-07-10T18:50:43.799439Z",
     "iopub.status.idle": "2023-07-10T18:50:43.809784Z",
     "shell.execute_reply": "2023-07-10T18:50:43.808878Z"
    },
    "papermill": {
     "duration": 0.022319,
     "end_time": "2023-07-10T18:50:43.811759",
     "exception": false,
     "start_time": "2023-07-10T18:50:43.789440",
     "status": "completed"
    },
    "tags": []
   },
   "outputs": [
    {
     "data": {
      "text/plain": [
       "array(['Andy Samberg', 'Shakira Isabel Mebarak', 'melissa fumero'],\n",
       "      dtype=object)"
      ]
     },
     "execution_count": 18,
     "metadata": {},
     "output_type": "execute_result"
    }
   ],
   "source": [
    "random_persons=np.random.choice(test['name'].unique(),size=3,replace=False)\n",
    "random_persons"
   ]
  },
  {
   "cell_type": "code",
   "execution_count": 19,
   "id": "b7410410",
   "metadata": {
    "execution": {
     "iopub.execute_input": "2023-07-10T18:50:43.831665Z",
     "iopub.status.busy": "2023-07-10T18:50:43.830914Z",
     "iopub.status.idle": "2023-07-10T18:50:43.839042Z",
     "shell.execute_reply": "2023-07-10T18:50:43.838193Z"
    },
    "papermill": {
     "duration": 0.02005,
     "end_time": "2023-07-10T18:50:43.840949",
     "exception": false,
     "start_time": "2023-07-10T18:50:43.820899",
     "status": "completed"
    },
    "tags": []
   },
   "outputs": [],
   "source": [
    "test=test.loc[test['name'].isin(random_persons)].reset_index(drop=True)\n",
    "test_size=test.shape[0]"
   ]
  },
  {
   "cell_type": "code",
   "execution_count": 20,
   "id": "7c42d38b",
   "metadata": {
    "execution": {
     "iopub.execute_input": "2023-07-10T18:50:43.860878Z",
     "iopub.status.busy": "2023-07-10T18:50:43.860113Z",
     "iopub.status.idle": "2023-07-10T18:50:43.865993Z",
     "shell.execute_reply": "2023-07-10T18:50:43.865107Z"
    },
    "papermill": {
     "duration": 0.017854,
     "end_time": "2023-07-10T18:50:43.867917",
     "exception": false,
     "start_time": "2023-07-10T18:50:43.850063",
     "status": "completed"
    },
    "tags": []
   },
   "outputs": [
    {
     "data": {
      "text/plain": [
       "['gs://kds-ade40411c0be59170812b1f7f838c407b46f9a978b1c26c45f9ceaf7/TFRecords/TFRecords/pin_faces_fold_0.tfrec',\n",
       " 'gs://kds-ade40411c0be59170812b1f7f838c407b46f9a978b1c26c45f9ceaf7/TFRecords/TFRecords/pin_faces_fold_1.tfrec',\n",
       " 'gs://kds-ade40411c0be59170812b1f7f838c407b46f9a978b1c26c45f9ceaf7/TFRecords/TFRecords/pin_faces_fold_2.tfrec',\n",
       " 'gs://kds-ade40411c0be59170812b1f7f838c407b46f9a978b1c26c45f9ceaf7/TFRecords/TFRecords/pin_faces_fold_3.tfrec',\n",
       " 'gs://kds-ade40411c0be59170812b1f7f838c407b46f9a978b1c26c45f9ceaf7/TFRecords/TFRecords/pin_faces_fold_4.tfrec']"
      ]
     },
     "execution_count": 20,
     "metadata": {},
     "output_type": "execute_result"
    }
   ],
   "source": [
    "kfolds"
   ]
  },
  {
   "cell_type": "code",
   "execution_count": 21,
   "id": "75e7d6d5",
   "metadata": {
    "execution": {
     "iopub.execute_input": "2023-07-10T18:50:43.887942Z",
     "iopub.status.busy": "2023-07-10T18:50:43.887153Z",
     "iopub.status.idle": "2023-07-10T18:50:43.893588Z",
     "shell.execute_reply": "2023-07-10T18:50:43.892703Z"
    },
    "papermill": {
     "duration": 0.018378,
     "end_time": "2023-07-10T18:50:43.895532",
     "exception": false,
     "start_time": "2023-07-10T18:50:43.877154",
     "status": "completed"
    },
    "tags": []
   },
   "outputs": [
    {
     "data": {
      "text/plain": [
       "['gs://kds-ade40411c0be59170812b1f7f838c407b46f9a978b1c26c45f9ceaf7/Evaluate Persons/Evaluate Persons/pin_Andy Samberg_records.tfrec',\n",
       " 'gs://kds-ade40411c0be59170812b1f7f838c407b46f9a978b1c26c45f9ceaf7/Evaluate Persons/Evaluate Persons/pin_Shakira Isabel Mebarak_records.tfrec',\n",
       " 'gs://kds-ade40411c0be59170812b1f7f838c407b46f9a978b1c26c45f9ceaf7/Evaluate Persons/Evaluate Persons/pin_melissa fumero_records.tfrec']"
      ]
     },
     "execution_count": 21,
     "metadata": {},
     "output_type": "execute_result"
    }
   ],
   "source": [
    "test_folds=[]\n",
    "for person in random_persons:\n",
    "    path=f\"{GCS_DS_PATH}/Evaluate Persons/Evaluate Persons/pin_{person}_records.tfrec\"\n",
    "    test_folds.append(path)\n",
    "test_folds"
   ]
  },
  {
   "cell_type": "code",
   "execution_count": 22,
   "id": "ba18fa1b",
   "metadata": {
    "execution": {
     "iopub.execute_input": "2023-07-10T18:50:43.915818Z",
     "iopub.status.busy": "2023-07-10T18:50:43.915082Z",
     "iopub.status.idle": "2023-07-10T18:50:43.922466Z",
     "shell.execute_reply": "2023-07-10T18:50:43.921572Z"
    },
    "papermill": {
     "duration": 0.019543,
     "end_time": "2023-07-10T18:50:43.924413",
     "exception": false,
     "start_time": "2023-07-10T18:50:43.904870",
     "status": "completed"
    },
    "tags": []
   },
   "outputs": [
    {
     "data": {
      "text/plain": [
       "{0.0: {0.6: [], 0.7: [], 0.8: []},\n",
       " 0.2: {0.6: [], 0.7: [], 0.8: []},\n",
       " 0.4: {0.6: [], 0.7: [], 0.8: []},\n",
       " 0.5: {0.6: [], 0.7: [], 0.8: []},\n",
       " 0.8: {0.6: [], 0.7: [], 0.8: []}}"
      ]
     },
     "execution_count": 22,
     "metadata": {},
     "output_type": "execute_result"
    }
   ],
   "source": [
    "False_Positives_dict={}\n",
    "for m in [0.0,0.2,0.4,0.5,0.8]:\n",
    "    False_Positives_dict[m]={}\n",
    "    for threshold in [0.6,0.7,0.8]:\n",
    "        False_Positives_dict[m][threshold]=[]\n",
    "False_Positives_dict"
   ]
  },
  {
   "cell_type": "code",
   "execution_count": 23,
   "id": "2e5aa12d",
   "metadata": {
    "execution": {
     "iopub.execute_input": "2023-07-10T18:50:43.944714Z",
     "iopub.status.busy": "2023-07-10T18:50:43.944415Z",
     "iopub.status.idle": "2023-07-10T18:50:43.948461Z",
     "shell.execute_reply": "2023-07-10T18:50:43.947544Z"
    },
    "papermill": {
     "duration": 0.016608,
     "end_time": "2023-07-10T18:50:43.950437",
     "exception": false,
     "start_time": "2023-07-10T18:50:43.933829",
     "status": "completed"
    },
    "tags": []
   },
   "outputs": [],
   "source": [
    "top_k=20"
   ]
  },
  {
   "cell_type": "code",
   "execution_count": 24,
   "id": "40e110f4",
   "metadata": {
    "execution": {
     "iopub.execute_input": "2023-07-10T18:50:43.971322Z",
     "iopub.status.busy": "2023-07-10T18:50:43.970528Z",
     "iopub.status.idle": "2023-07-10T20:22:27.991214Z",
     "shell.execute_reply": "2023-07-10T20:22:27.990013Z"
    },
    "papermill": {
     "duration": 5504.033048,
     "end_time": "2023-07-10T20:22:27.993258",
     "exception": false,
     "start_time": "2023-07-10T18:50:43.960210",
     "status": "completed"
    },
    "tags": []
   },
   "outputs": [
    {
     "name": "stdout",
     "output_type": "stream",
     "text": [
      "running for m 0.0\n",
      "Downloading data from https://storage.googleapis.com/tensorflow/keras-applications/densenet/densenet201_weights_tf_dim_ordering_tf_kernels_notop.h5\n",
      "74836368/74836368 [==============================] - 3s 0us/step\n",
      "got the embeddings\n"
     ]
    },
    {
     "name": "stderr",
     "output_type": "stream",
     "text": [
      "100%|██████████| 504/504 [00:01<00:00, 346.13it/s]\n",
      "100%|██████████| 504/504 [00:01<00:00, 402.93it/s]\n",
      "100%|██████████| 504/504 [00:01<00:00, 414.62it/s]\n"
     ]
    },
    {
     "name": "stdout",
     "output_type": "stream",
     "text": [
      "got the embeddings\n"
     ]
    },
    {
     "name": "stderr",
     "output_type": "stream",
     "text": [
      "100%|██████████| 504/504 [00:01<00:00, 353.31it/s]\n",
      "100%|██████████| 504/504 [00:01<00:00, 398.92it/s]\n",
      "100%|██████████| 504/504 [00:01<00:00, 408.29it/s]\n"
     ]
    },
    {
     "name": "stdout",
     "output_type": "stream",
     "text": [
      "got the embeddings\n"
     ]
    },
    {
     "name": "stderr",
     "output_type": "stream",
     "text": [
      "100%|██████████| 504/504 [00:01<00:00, 353.17it/s]\n",
      "100%|██████████| 504/504 [00:01<00:00, 408.17it/s]\n",
      "100%|██████████| 504/504 [00:01<00:00, 406.91it/s]\n"
     ]
    },
    {
     "name": "stdout",
     "output_type": "stream",
     "text": [
      "got the embeddings\n"
     ]
    },
    {
     "name": "stderr",
     "output_type": "stream",
     "text": [
      "100%|██████████| 504/504 [00:01<00:00, 358.16it/s]\n",
      "100%|██████████| 504/504 [00:01<00:00, 404.56it/s]\n",
      "100%|██████████| 504/504 [00:01<00:00, 406.80it/s]\n"
     ]
    },
    {
     "name": "stdout",
     "output_type": "stream",
     "text": [
      "got the embeddings\n"
     ]
    },
    {
     "name": "stderr",
     "output_type": "stream",
     "text": [
      "100%|██████████| 504/504 [00:01<00:00, 357.98it/s]\n",
      "100%|██████████| 504/504 [00:01<00:00, 412.34it/s]\n",
      "100%|██████████| 504/504 [00:01<00:00, 414.98it/s]\n"
     ]
    },
    {
     "name": "stdout",
     "output_type": "stream",
     "text": [
      "running for m 0.2\n",
      "got the embeddings\n"
     ]
    },
    {
     "name": "stderr",
     "output_type": "stream",
     "text": [
      "100%|██████████| 504/504 [00:01<00:00, 343.43it/s]\n",
      "100%|██████████| 504/504 [00:01<00:00, 405.34it/s]\n",
      "100%|██████████| 504/504 [00:01<00:00, 406.68it/s]\n"
     ]
    },
    {
     "name": "stdout",
     "output_type": "stream",
     "text": [
      "got the embeddings\n"
     ]
    },
    {
     "name": "stderr",
     "output_type": "stream",
     "text": [
      "100%|██████████| 504/504 [00:01<00:00, 358.34it/s]\n",
      "100%|██████████| 504/504 [00:01<00:00, 396.68it/s]\n",
      "100%|██████████| 504/504 [00:01<00:00, 401.82it/s]\n"
     ]
    },
    {
     "name": "stdout",
     "output_type": "stream",
     "text": [
      "got the embeddings\n"
     ]
    },
    {
     "name": "stderr",
     "output_type": "stream",
     "text": [
      "100%|██████████| 504/504 [00:01<00:00, 357.16it/s]\n",
      "100%|██████████| 504/504 [00:01<00:00, 309.14it/s]\n",
      "100%|██████████| 504/504 [00:01<00:00, 396.29it/s]\n"
     ]
    },
    {
     "name": "stdout",
     "output_type": "stream",
     "text": [
      "got the embeddings\n"
     ]
    },
    {
     "name": "stderr",
     "output_type": "stream",
     "text": [
      "100%|██████████| 504/504 [00:01<00:00, 354.05it/s]\n",
      "100%|██████████| 504/504 [00:01<00:00, 382.81it/s]\n",
      "100%|██████████| 504/504 [00:01<00:00, 397.41it/s]\n"
     ]
    },
    {
     "name": "stdout",
     "output_type": "stream",
     "text": [
      "got the embeddings\n"
     ]
    },
    {
     "name": "stderr",
     "output_type": "stream",
     "text": [
      "100%|██████████| 504/504 [00:01<00:00, 335.93it/s]\n",
      "100%|██████████| 504/504 [00:01<00:00, 401.23it/s]\n",
      "100%|██████████| 504/504 [00:01<00:00, 407.20it/s]\n"
     ]
    },
    {
     "name": "stdout",
     "output_type": "stream",
     "text": [
      "running for m 0.4\n",
      "got the embeddings\n"
     ]
    },
    {
     "name": "stderr",
     "output_type": "stream",
     "text": [
      "100%|██████████| 504/504 [00:01<00:00, 346.25it/s]\n",
      "100%|██████████| 504/504 [00:01<00:00, 374.72it/s]\n",
      "100%|██████████| 504/504 [00:01<00:00, 380.95it/s]\n"
     ]
    },
    {
     "name": "stdout",
     "output_type": "stream",
     "text": [
      "got the embeddings\n"
     ]
    },
    {
     "name": "stderr",
     "output_type": "stream",
     "text": [
      "100%|██████████| 504/504 [00:01<00:00, 362.31it/s]\n",
      "100%|██████████| 504/504 [00:01<00:00, 397.48it/s]\n",
      "100%|██████████| 504/504 [00:01<00:00, 407.46it/s]\n"
     ]
    },
    {
     "name": "stdout",
     "output_type": "stream",
     "text": [
      "got the embeddings\n"
     ]
    },
    {
     "name": "stderr",
     "output_type": "stream",
     "text": [
      "100%|██████████| 504/504 [00:01<00:00, 349.71it/s]\n",
      "100%|██████████| 504/504 [00:01<00:00, 387.85it/s]\n",
      "100%|██████████| 504/504 [00:01<00:00, 375.20it/s]\n"
     ]
    },
    {
     "name": "stdout",
     "output_type": "stream",
     "text": [
      "got the embeddings\n"
     ]
    },
    {
     "name": "stderr",
     "output_type": "stream",
     "text": [
      "100%|██████████| 504/504 [00:01<00:00, 364.46it/s]\n",
      "100%|██████████| 504/504 [00:01<00:00, 388.93it/s]\n",
      "100%|██████████| 504/504 [00:01<00:00, 406.36it/s]\n"
     ]
    },
    {
     "name": "stdout",
     "output_type": "stream",
     "text": [
      "got the embeddings\n"
     ]
    },
    {
     "name": "stderr",
     "output_type": "stream",
     "text": [
      "100%|██████████| 504/504 [00:01<00:00, 361.00it/s]\n",
      "100%|██████████| 504/504 [00:01<00:00, 396.78it/s]\n",
      "100%|██████████| 504/504 [00:01<00:00, 391.44it/s]\n"
     ]
    },
    {
     "name": "stdout",
     "output_type": "stream",
     "text": [
      "running for m 0.5\n",
      "got the embeddings\n"
     ]
    },
    {
     "name": "stderr",
     "output_type": "stream",
     "text": [
      "100%|██████████| 504/504 [00:01<00:00, 340.35it/s]\n",
      "100%|██████████| 504/504 [00:01<00:00, 378.75it/s]\n",
      "100%|██████████| 504/504 [00:01<00:00, 401.81it/s]\n"
     ]
    },
    {
     "name": "stdout",
     "output_type": "stream",
     "text": [
      "got the embeddings\n"
     ]
    },
    {
     "name": "stderr",
     "output_type": "stream",
     "text": [
      "100%|██████████| 504/504 [00:01<00:00, 360.82it/s]\n",
      "100%|██████████| 504/504 [00:01<00:00, 378.76it/s]\n",
      "100%|██████████| 504/504 [00:01<00:00, 388.24it/s]\n"
     ]
    },
    {
     "name": "stdout",
     "output_type": "stream",
     "text": [
      "got the embeddings\n"
     ]
    },
    {
     "name": "stderr",
     "output_type": "stream",
     "text": [
      "100%|██████████| 504/504 [00:01<00:00, 357.60it/s]\n",
      "100%|██████████| 504/504 [00:01<00:00, 372.75it/s]\n",
      "100%|██████████| 504/504 [00:01<00:00, 397.48it/s]\n"
     ]
    },
    {
     "name": "stdout",
     "output_type": "stream",
     "text": [
      "got the embeddings\n"
     ]
    },
    {
     "name": "stderr",
     "output_type": "stream",
     "text": [
      "100%|██████████| 504/504 [00:01<00:00, 357.80it/s]\n",
      "100%|██████████| 504/504 [00:01<00:00, 380.51it/s]\n",
      "100%|██████████| 504/504 [00:01<00:00, 393.93it/s]\n"
     ]
    },
    {
     "name": "stdout",
     "output_type": "stream",
     "text": [
      "got the embeddings\n"
     ]
    },
    {
     "name": "stderr",
     "output_type": "stream",
     "text": [
      "100%|██████████| 504/504 [00:01<00:00, 351.12it/s]\n",
      "100%|██████████| 504/504 [00:01<00:00, 394.06it/s]\n",
      "100%|██████████| 504/504 [00:01<00:00, 355.35it/s]\n"
     ]
    },
    {
     "name": "stdout",
     "output_type": "stream",
     "text": [
      "running for m 0.8\n",
      "got the embeddings\n"
     ]
    },
    {
     "name": "stderr",
     "output_type": "stream",
     "text": [
      "100%|██████████| 504/504 [00:01<00:00, 292.17it/s]\n",
      "100%|██████████| 504/504 [00:01<00:00, 361.80it/s]\n",
      "100%|██████████| 504/504 [00:01<00:00, 391.04it/s]\n"
     ]
    },
    {
     "name": "stdout",
     "output_type": "stream",
     "text": [
      "got the embeddings\n"
     ]
    },
    {
     "name": "stderr",
     "output_type": "stream",
     "text": [
      "100%|██████████| 504/504 [00:01<00:00, 351.42it/s]\n",
      "100%|██████████| 504/504 [00:01<00:00, 375.06it/s]\n",
      "100%|██████████| 504/504 [00:01<00:00, 389.10it/s]\n"
     ]
    },
    {
     "name": "stdout",
     "output_type": "stream",
     "text": [
      "got the embeddings\n"
     ]
    },
    {
     "name": "stderr",
     "output_type": "stream",
     "text": [
      "100%|██████████| 504/504 [00:01<00:00, 354.06it/s]\n",
      "100%|██████████| 504/504 [00:01<00:00, 360.28it/s]\n",
      "100%|██████████| 504/504 [00:01<00:00, 393.66it/s]\n"
     ]
    },
    {
     "name": "stdout",
     "output_type": "stream",
     "text": [
      "got the embeddings\n"
     ]
    },
    {
     "name": "stderr",
     "output_type": "stream",
     "text": [
      "100%|██████████| 504/504 [00:01<00:00, 355.53it/s]\n",
      "100%|██████████| 504/504 [00:01<00:00, 382.22it/s]\n",
      "100%|██████████| 504/504 [00:01<00:00, 395.91it/s]\n"
     ]
    },
    {
     "name": "stdout",
     "output_type": "stream",
     "text": [
      "got the embeddings\n"
     ]
    },
    {
     "name": "stderr",
     "output_type": "stream",
     "text": [
      "100%|██████████| 504/504 [00:01<00:00, 348.68it/s]\n",
      "100%|██████████| 504/504 [00:01<00:00, 364.97it/s]\n",
      "100%|██████████| 504/504 [00:01<00:00, 394.21it/s]\n"
     ]
    }
   ],
   "source": [
    "for m in [0.0,0.2,0.4,0.5,0.8]:\n",
    "    print(f\"running for m {m}\")\n",
    "    for fold in range(5):\n",
    "        path=f\"/kaggle/input/pins-face-m-variation-models/M-Variation-models/m={m}/fold-{fold}.h5\"\n",
    "        emb_model=GetModel(m,path)\n",
    "        train_data=TFRecords_Dataset(kfolds,BATCH_SIZE)\n",
    "        Train_Embeddings,Train_Labels=Get_Embeddings_Labels(train_data,emb_model,BATCH_SIZE,train_size)\n",
    "        Train_Embeddings=tf.linalg.l2_normalize(Train_Embeddings,axis=-1)\n",
    "        #########################\n",
    "        test_data=TFRecords_Dataset(test_folds,BATCH_SIZE)\n",
    "        Test_Embeddings,Test_Labels=Get_Embeddings_Labels(test_data,emb_model,BATCH_SIZE,test_size)\n",
    "        #############3 person embeddings##########\n",
    "        print(\"got the embeddings\")\n",
    "        for threshold in [0.6,0.7,0.8]:\n",
    "            false_pos=0\n",
    "            for i in tqdm(range(test_size)):\n",
    "                temp_embed=np.expand_dims(Test_Embeddings[i,...],axis=0)\n",
    "                true_label=Test_Labels[i]\n",
    "                idx=Get_Similarity_indexs(temp_embed,Train_Embeddings,threshold,top_k)\n",
    "                false_pos+=idx.shape[0]\n",
    "            mean_false=false_pos/test_size\n",
    "            False_Positives_dict[m][threshold].append(mean_false)"
   ]
  },
  {
   "cell_type": "code",
   "execution_count": 25,
   "id": "d231d612",
   "metadata": {
    "execution": {
     "iopub.execute_input": "2023-07-10T20:22:28.196645Z",
     "iopub.status.busy": "2023-07-10T20:22:28.194985Z",
     "iopub.status.idle": "2023-07-10T20:22:28.215604Z",
     "shell.execute_reply": "2023-07-10T20:22:28.214750Z"
    },
    "papermill": {
     "duration": 0.12385,
     "end_time": "2023-07-10T20:22:28.217618",
     "exception": false,
     "start_time": "2023-07-10T20:22:28.093768",
     "status": "completed"
    },
    "tags": []
   },
   "outputs": [],
   "source": [
    "results=pd.DataFrame(False_Positives_dict)\n",
    "results=results.unstack().reset_index()\n",
    "results.columns=[\"m\",\"threshold\",\"false_pos\"]\n",
    "results=results.explode(\"false_pos\")"
   ]
  },
  {
   "cell_type": "code",
   "execution_count": 26,
   "id": "904ab6aa",
   "metadata": {
    "execution": {
     "iopub.execute_input": "2023-07-10T20:22:28.420761Z",
     "iopub.status.busy": "2023-07-10T20:22:28.419097Z",
     "iopub.status.idle": "2023-07-10T20:23:22.722878Z",
     "shell.execute_reply": "2023-07-10T20:23:22.721920Z"
    },
    "papermill": {
     "duration": 54.407191,
     "end_time": "2023-07-10T20:23:22.725177",
     "exception": false,
     "start_time": "2023-07-10T20:22:28.317986",
     "status": "completed"
    },
    "tags": []
   },
   "outputs": [
    {
     "name": "stderr",
     "output_type": "stream",
     "text": [
      "\u001b[34m\u001b[1mwandb\u001b[0m: Currently logged in as: \u001b[33mraviteja_\u001b[0m. Use \u001b[1m`wandb login --relogin`\u001b[0m to force relogin\n",
      "\u001b[34m\u001b[1mwandb\u001b[0m: wandb version 0.15.5 is available!  To upgrade, please run:\n",
      "\u001b[34m\u001b[1mwandb\u001b[0m:  $ pip install wandb --upgrade\n",
      "\u001b[34m\u001b[1mwandb\u001b[0m: Tracking run with wandb version 0.15.4\n",
      "\u001b[34m\u001b[1mwandb\u001b[0m: Run data is saved locally in \u001b[35m\u001b[1m/kaggle/working/wandb/run-20230710_202229-pgw1pk53\u001b[0m\n",
      "\u001b[34m\u001b[1mwandb\u001b[0m: Run \u001b[1m`wandb offline`\u001b[0m to turn off syncing.\n",
      "\u001b[34m\u001b[1mwandb\u001b[0m: Syncing run \u001b[33mfeasible-sea-84\u001b[0m\n",
      "\u001b[34m\u001b[1mwandb\u001b[0m: ⭐️ View project at \u001b[34m\u001b[4mhttps://wandb.ai/raviteja_/FaceRecognition-kfold\u001b[0m\n",
      "\u001b[34m\u001b[1mwandb\u001b[0m: 🚀 View run at \u001b[34m\u001b[4mhttps://wandb.ai/raviteja_/FaceRecognition-kfold/runs/pgw1pk53\u001b[0m\n",
      "\u001b[34m\u001b[1mwandb\u001b[0m: Waiting for W&B process to finish... \u001b[32m(success).\u001b[0m\n",
      "\u001b[34m\u001b[1mwandb\u001b[0m: 🚀 View run \u001b[33mfeasible-sea-84\u001b[0m at: \u001b[34m\u001b[4mhttps://wandb.ai/raviteja_/FaceRecognition-kfold/runs/pgw1pk53\u001b[0m\n",
      "\u001b[34m\u001b[1mwandb\u001b[0m: Synced 5 W&B file(s), 1 media file(s), 0 artifact file(s) and 0 other file(s)\n",
      "\u001b[34m\u001b[1mwandb\u001b[0m: Find logs at: \u001b[35m\u001b[1m./wandb/run-20230710_202229-pgw1pk53/logs\u001b[0m\n"
     ]
    },
    {
     "data": {
      "image/png": "[encoded data removed]",
      "text/plain": [
       "<Figure size 640x480 with 2 Axes>"
      ]
     },
     "metadata": {},
     "output_type": "display_data"
    }
   ],
   "source": [
    "heatmap=sn.heatmap(pd.pivot_table(data=results,index=\"m\",columns='threshold',values='false_pos'),annot=True,\n",
    "           cmap=\"rocket_r\")\n",
    "heatmap.set_title(\"mean false positives\")\n",
    "Log_Plot(heatmap,\"false_positives\",top_k)"
   ]
  },
  {
   "cell_type": "code",
   "execution_count": 27,
   "id": "0f3a2f66",
   "metadata": {
    "execution": {
     "iopub.execute_input": "2023-07-10T20:23:23.031567Z",
     "iopub.status.busy": "2023-07-10T20:23:23.031081Z",
     "iopub.status.idle": "2023-07-10T20:23:23.044313Z",
     "shell.execute_reply": "2023-07-10T20:23:23.043411Z"
    },
    "papermill": {
     "duration": 0.170286,
     "end_time": "2023-07-10T20:23:23.046882",
     "exception": false,
     "start_time": "2023-07-10T20:23:22.876596",
     "status": "completed"
    },
    "tags": []
   },
   "outputs": [
    {
     "name": "stdout",
     "output_type": "stream",
     "text": [
      "{0.0: {0.6: [], 0.7: [], 0.8: []}, 0.2: {0.6: [], 0.7: [], 0.8: []}, 0.4: {0.6: [], 0.7: [], 0.8: []}, 0.5: {0.6: [], 0.7: [], 0.8: []}, 0.8: {0.6: [], 0.7: [], 0.8: []}}\n",
      "{0.0: {0.6: [], 0.7: [], 0.8: []}, 0.2: {0.6: [], 0.7: [], 0.8: []}, 0.4: {0.6: [], 0.7: [], 0.8: []}, 0.5: {0.6: [], 0.7: [], 0.8: []}, 0.8: {0.6: [], 0.7: [], 0.8: []}}\n",
      "{0.0: {0.6: [], 0.7: [], 0.8: []}, 0.2: {0.6: [], 0.7: [], 0.8: []}, 0.4: {0.6: [], 0.7: [], 0.8: []}, 0.5: {0.6: [], 0.7: [], 0.8: []}, 0.8: {0.6: [], 0.7: [], 0.8: []}}\n"
     ]
    }
   ],
   "source": [
    "mean_precision_score_dict={}\n",
    "mean_recall_score_dict={}\n",
    "mean_f1_score_dict={}\n",
    "for m in [0.0,0.2,0.4,0.5,0.8]:\n",
    "    mean_precision_score_dict[m]={}\n",
    "    mean_recall_score_dict[m]={}\n",
    "    mean_f1_score_dict[m]={}\n",
    "    for threshold in [0.6,0.7,0.8]:\n",
    "        mean_precision_score_dict[m][threshold]=[]\n",
    "        mean_recall_score_dict[m][threshold]=[]\n",
    "        mean_f1_score_dict[m][threshold]=[]\n",
    "print(mean_precision_score_dict)\n",
    "print(mean_recall_score_dict)\n",
    "print(mean_f1_score_dict)"
   ]
  },
  {
   "cell_type": "code",
   "execution_count": 28,
   "id": "6ac5a12f",
   "metadata": {
    "execution": {
     "iopub.execute_input": "2023-07-10T20:23:23.352391Z",
     "iopub.status.busy": "2023-07-10T20:23:23.351935Z",
     "iopub.status.idle": "2023-07-10T21:55:22.136113Z",
     "shell.execute_reply": "2023-07-10T21:55:22.134842Z"
    },
    "papermill": {
     "duration": 5518.938662,
     "end_time": "2023-07-10T21:55:22.138131",
     "exception": false,
     "start_time": "2023-07-10T20:23:23.199469",
     "status": "completed"
    },
    "tags": []
   },
   "outputs": [
    {
     "name": "stdout",
     "output_type": "stream",
     "text": [
      "running for m 0.0\n",
      "got the embeddings\n"
     ]
    },
    {
     "name": "stderr",
     "output_type": "stream",
     "text": [
      "100%|██████████| 504/504 [00:01<00:00, 264.82it/s]\n",
      "100%|██████████| 504/504 [00:01<00:00, 344.64it/s]\n",
      "100%|██████████| 504/504 [00:01<00:00, 345.01it/s]\n"
     ]
    },
    {
     "name": "stdout",
     "output_type": "stream",
     "text": [
      "got the embeddings\n"
     ]
    },
    {
     "name": "stderr",
     "output_type": "stream",
     "text": [
      "100%|██████████| 504/504 [00:01<00:00, 329.36it/s]\n",
      "100%|██████████| 504/504 [00:01<00:00, 328.47it/s]\n",
      "100%|██████████| 504/504 [00:01<00:00, 339.10it/s]\n"
     ]
    },
    {
     "name": "stdout",
     "output_type": "stream",
     "text": [
      "got the embeddings\n"
     ]
    },
    {
     "name": "stderr",
     "output_type": "stream",
     "text": [
      "100%|██████████| 504/504 [00:01<00:00, 332.54it/s]\n",
      "100%|██████████| 504/504 [00:01<00:00, 345.05it/s]\n",
      "100%|██████████| 504/504 [00:01<00:00, 346.33it/s]\n"
     ]
    },
    {
     "name": "stdout",
     "output_type": "stream",
     "text": [
      "got the embeddings\n"
     ]
    },
    {
     "name": "stderr",
     "output_type": "stream",
     "text": [
      "100%|██████████| 504/504 [00:01<00:00, 330.66it/s]\n",
      "100%|██████████| 504/504 [00:01<00:00, 340.42it/s]\n",
      "100%|██████████| 504/504 [00:01<00:00, 304.69it/s]\n"
     ]
    },
    {
     "name": "stdout",
     "output_type": "stream",
     "text": [
      "got the embeddings\n"
     ]
    },
    {
     "name": "stderr",
     "output_type": "stream",
     "text": [
      "100%|██████████| 504/504 [00:01<00:00, 319.46it/s]\n",
      "100%|██████████| 504/504 [00:01<00:00, 344.79it/s]\n",
      "100%|██████████| 504/504 [00:01<00:00, 343.97it/s]\n"
     ]
    },
    {
     "name": "stdout",
     "output_type": "stream",
     "text": [
      "running for m 0.2\n",
      "got the embeddings\n"
     ]
    },
    {
     "name": "stderr",
     "output_type": "stream",
     "text": [
      "100%|██████████| 504/504 [00:01<00:00, 328.38it/s]\n",
      "100%|██████████| 504/504 [00:01<00:00, 346.19it/s]\n",
      "100%|██████████| 504/504 [00:01<00:00, 346.75it/s]\n"
     ]
    },
    {
     "name": "stdout",
     "output_type": "stream",
     "text": [
      "got the embeddings\n"
     ]
    },
    {
     "name": "stderr",
     "output_type": "stream",
     "text": [
      "100%|██████████| 504/504 [00:01<00:00, 333.96it/s]\n",
      "100%|██████████| 504/504 [00:01<00:00, 344.70it/s]\n",
      "100%|██████████| 504/504 [00:01<00:00, 328.86it/s]\n"
     ]
    },
    {
     "name": "stdout",
     "output_type": "stream",
     "text": [
      "got the embeddings\n"
     ]
    },
    {
     "name": "stderr",
     "output_type": "stream",
     "text": [
      "100%|██████████| 504/504 [00:01<00:00, 332.95it/s]\n",
      "100%|██████████| 504/504 [00:01<00:00, 345.84it/s]\n",
      "100%|██████████| 504/504 [00:01<00:00, 331.13it/s]\n"
     ]
    },
    {
     "name": "stdout",
     "output_type": "stream",
     "text": [
      "got the embeddings\n"
     ]
    },
    {
     "name": "stderr",
     "output_type": "stream",
     "text": [
      "100%|██████████| 504/504 [00:01<00:00, 323.94it/s]\n",
      "100%|██████████| 504/504 [00:01<00:00, 338.40it/s]\n",
      "100%|██████████| 504/504 [00:01<00:00, 337.34it/s]\n"
     ]
    },
    {
     "name": "stdout",
     "output_type": "stream",
     "text": [
      "got the embeddings\n"
     ]
    },
    {
     "name": "stderr",
     "output_type": "stream",
     "text": [
      "100%|██████████| 504/504 [00:01<00:00, 325.86it/s]\n",
      "100%|██████████| 504/504 [00:01<00:00, 330.88it/s]\n",
      "100%|██████████| 504/504 [00:01<00:00, 346.39it/s]\n"
     ]
    },
    {
     "name": "stdout",
     "output_type": "stream",
     "text": [
      "running for m 0.4\n",
      "got the embeddings\n"
     ]
    },
    {
     "name": "stderr",
     "output_type": "stream",
     "text": [
      "100%|██████████| 504/504 [00:01<00:00, 330.27it/s]\n",
      "100%|██████████| 504/504 [00:01<00:00, 343.90it/s]\n",
      "100%|██████████| 504/504 [00:01<00:00, 343.90it/s]\n"
     ]
    },
    {
     "name": "stdout",
     "output_type": "stream",
     "text": [
      "got the embeddings\n"
     ]
    },
    {
     "name": "stderr",
     "output_type": "stream",
     "text": [
      "100%|██████████| 504/504 [00:01<00:00, 333.85it/s]\n",
      "100%|██████████| 504/504 [00:01<00:00, 340.73it/s]\n",
      "100%|██████████| 504/504 [00:01<00:00, 350.75it/s]\n"
     ]
    },
    {
     "name": "stdout",
     "output_type": "stream",
     "text": [
      "got the embeddings\n"
     ]
    },
    {
     "name": "stderr",
     "output_type": "stream",
     "text": [
      "100%|██████████| 504/504 [00:01<00:00, 331.23it/s]\n",
      "100%|██████████| 504/504 [00:01<00:00, 343.70it/s]\n",
      "100%|██████████| 504/504 [00:01<00:00, 336.29it/s]\n"
     ]
    },
    {
     "name": "stdout",
     "output_type": "stream",
     "text": [
      "got the embeddings\n"
     ]
    },
    {
     "name": "stderr",
     "output_type": "stream",
     "text": [
      "100%|██████████| 504/504 [00:01<00:00, 333.55it/s]\n",
      "100%|██████████| 504/504 [00:01<00:00, 344.42it/s]\n",
      "100%|██████████| 504/504 [00:01<00:00, 331.90it/s]\n"
     ]
    },
    {
     "name": "stdout",
     "output_type": "stream",
     "text": [
      "got the embeddings\n"
     ]
    },
    {
     "name": "stderr",
     "output_type": "stream",
     "text": [
      "100%|██████████| 504/504 [00:01<00:00, 323.07it/s]\n",
      "100%|██████████| 504/504 [00:01<00:00, 339.74it/s]\n",
      "100%|██████████| 504/504 [00:01<00:00, 346.22it/s]\n"
     ]
    },
    {
     "name": "stdout",
     "output_type": "stream",
     "text": [
      "running for m 0.5\n",
      "got the embeddings\n"
     ]
    },
    {
     "name": "stderr",
     "output_type": "stream",
     "text": [
      "100%|██████████| 504/504 [00:01<00:00, 328.54it/s]\n",
      "100%|██████████| 504/504 [00:01<00:00, 344.15it/s]\n",
      "100%|██████████| 504/504 [00:01<00:00, 347.16it/s]\n"
     ]
    },
    {
     "name": "stdout",
     "output_type": "stream",
     "text": [
      "got the embeddings\n"
     ]
    },
    {
     "name": "stderr",
     "output_type": "stream",
     "text": [
      "100%|██████████| 504/504 [00:01<00:00, 330.50it/s]\n",
      "100%|██████████| 504/504 [00:01<00:00, 345.56it/s]\n",
      "100%|██████████| 504/504 [00:01<00:00, 344.05it/s]\n"
     ]
    },
    {
     "name": "stdout",
     "output_type": "stream",
     "text": [
      "got the embeddings\n"
     ]
    },
    {
     "name": "stderr",
     "output_type": "stream",
     "text": [
      "100%|██████████| 504/504 [00:01<00:00, 326.52it/s]\n",
      "100%|██████████| 504/504 [00:01<00:00, 335.28it/s]\n",
      "100%|██████████| 504/504 [00:01<00:00, 353.40it/s]\n"
     ]
    },
    {
     "name": "stdout",
     "output_type": "stream",
     "text": [
      "got the embeddings\n"
     ]
    },
    {
     "name": "stderr",
     "output_type": "stream",
     "text": [
      "100%|██████████| 504/504 [00:01<00:00, 328.61it/s]\n",
      "100%|██████████| 504/504 [00:01<00:00, 346.08it/s]\n",
      "100%|██████████| 504/504 [00:01<00:00, 325.05it/s]\n"
     ]
    },
    {
     "name": "stdout",
     "output_type": "stream",
     "text": [
      "got the embeddings\n"
     ]
    },
    {
     "name": "stderr",
     "output_type": "stream",
     "text": [
      "100%|██████████| 504/504 [00:01<00:00, 319.10it/s]\n",
      "100%|██████████| 504/504 [00:01<00:00, 322.53it/s]\n",
      "100%|██████████| 504/504 [00:01<00:00, 341.09it/s]\n"
     ]
    },
    {
     "name": "stdout",
     "output_type": "stream",
     "text": [
      "running for m 0.8\n",
      "got the embeddings\n"
     ]
    },
    {
     "name": "stderr",
     "output_type": "stream",
     "text": [
      "100%|██████████| 504/504 [00:01<00:00, 334.98it/s]\n",
      "100%|██████████| 504/504 [00:01<00:00, 348.58it/s]\n",
      "100%|██████████| 504/504 [00:01<00:00, 330.55it/s]\n"
     ]
    },
    {
     "name": "stdout",
     "output_type": "stream",
     "text": [
      "got the embeddings\n"
     ]
    },
    {
     "name": "stderr",
     "output_type": "stream",
     "text": [
      "100%|██████████| 504/504 [00:01<00:00, 328.60it/s]\n",
      "100%|██████████| 504/504 [00:01<00:00, 345.13it/s]\n",
      "100%|██████████| 504/504 [00:01<00:00, 348.77it/s]\n"
     ]
    },
    {
     "name": "stdout",
     "output_type": "stream",
     "text": [
      "got the embeddings\n"
     ]
    },
    {
     "name": "stderr",
     "output_type": "stream",
     "text": [
      "100%|██████████| 504/504 [00:01<00:00, 318.96it/s]\n",
      "100%|██████████| 504/504 [00:01<00:00, 347.02it/s]\n",
      "100%|██████████| 504/504 [00:01<00:00, 347.73it/s]\n"
     ]
    },
    {
     "name": "stdout",
     "output_type": "stream",
     "text": [
      "got the embeddings\n"
     ]
    },
    {
     "name": "stderr",
     "output_type": "stream",
     "text": [
      "100%|██████████| 504/504 [00:01<00:00, 320.04it/s]\n",
      "100%|██████████| 504/504 [00:01<00:00, 343.90it/s]\n",
      "100%|██████████| 504/504 [00:01<00:00, 332.21it/s]\n"
     ]
    },
    {
     "name": "stdout",
     "output_type": "stream",
     "text": [
      "got the embeddings\n"
     ]
    },
    {
     "name": "stderr",
     "output_type": "stream",
     "text": [
      "100%|██████████| 504/504 [00:01<00:00, 327.12it/s]\n",
      "100%|██████████| 504/504 [00:01<00:00, 345.49it/s]\n",
      "100%|██████████| 504/504 [00:01<00:00, 345.65it/s]\n"
     ]
    }
   ],
   "source": [
    "top_k=20\n",
    "for m in [0.0,0.2,0.4,0.5,0.8]:\n",
    "    print(f\"running for m {m}\")\n",
    "    for fold in range(5):\n",
    "        path=f\"/kaggle/input/pins-face-m-variation-models/M-Variation-models/m={m}/fold-{fold}.h5\"\n",
    "        emb_model=GetModel(m,path)\n",
    "        train_data=TFRecords_Dataset(kfolds,BATCH_SIZE)\n",
    "        Train_Embeddings,Train_Labels=Get_Embeddings_Labels(train_data,emb_model,BATCH_SIZE,train_size)\n",
    "        Train_Embeddings=tf.linalg.l2_normalize(Train_Embeddings,axis=-1)\n",
    "        #########################\n",
    "        test_data=TFRecords_Dataset(test_folds,BATCH_SIZE)\n",
    "        Test_Embeddings,Test_Labels=Get_Embeddings_Labels(test_data,emb_model,BATCH_SIZE,test_size)\n",
    "        #############3 person embeddings##########\n",
    "        temp_train=tf.linalg.l2_normalize(Test_Embeddings,axis=-1)\n",
    "        Train_Embeddings=tf.concat([Train_Embeddings, temp_train], 0)\n",
    "        Train_Labels=tf.concat([Train_Labels,Test_Labels], 0).numpy()\n",
    "        #########Combined#########################\n",
    "        print(\"got the embeddings\")\n",
    "        for threshold in [0.6,0.7,0.8]:\n",
    "            mean_precision_score=0\n",
    "            mean_recall_score=0\n",
    "            mean_f1_score=0\n",
    "            for i in tqdm(range(test_size)):\n",
    "                temp_embed=np.expand_dims(Test_Embeddings[i,...],axis=0)\n",
    "                true_label=Test_Labels[i]\n",
    "                idx=Get_Similarity_indexs(temp_embed,Train_Embeddings,threshold,top_k)\n",
    "                predicted=np.where(Train_Labels[idx]==true_label,1,0).tolist()\n",
    "                p=(sum(predicted)/(len(predicted)+1e-5))\n",
    "                r=(sum(predicted)/(top_k))\n",
    "                mean_precision_score+=p\n",
    "                mean_recall_score+=r\n",
    "                mean_f1_score+=((2*p*r)/(p+r+1e-5))\n",
    "            mean_precision_score=mean_precision_score/test_size\n",
    "            mean_recall_score=mean_recall_score/test_size\n",
    "            mean_f1_score=mean_f1_score/test_size\n",
    "            mean_precision_score_dict[m][threshold].append(mean_precision_score)   \n",
    "            mean_recall_score_dict[m][threshold].append(mean_recall_score)   \n",
    "            mean_f1_score_dict[m][threshold].append(mean_f1_score)"
   ]
  },
  {
   "cell_type": "code",
   "execution_count": 29,
   "id": "fd4ba713",
   "metadata": {
    "execution": {
     "iopub.execute_input": "2023-07-10T21:55:22.539594Z",
     "iopub.status.busy": "2023-07-10T21:55:22.538363Z",
     "iopub.status.idle": "2023-07-10T21:55:23.474487Z",
     "shell.execute_reply": "2023-07-10T21:55:23.473493Z"
    },
    "papermill": {
     "duration": 1.140763,
     "end_time": "2023-07-10T21:55:23.476603",
     "exception": false,
     "start_time": "2023-07-10T21:55:22.335840",
     "status": "completed"
    },
    "tags": []
   },
   "outputs": [
    {
     "data": {
      "text/plain": [
       "Text(0.5, 1.0, 'mean precision score for 5 folds')"
      ]
     },
     "execution_count": 29,
     "metadata": {},
     "output_type": "execute_result"
    },
    {
     "data": {
      "image/png": "[encoded data removed]",
      "text/plain": [
       "<Figure size 640x480 with 2 Axes>"
      ]
     },
     "metadata": {},
     "output_type": "display_data"
    }
   ],
   "source": [
    "results=pd.DataFrame(mean_precision_score_dict)\n",
    "results=results.unstack().reset_index()\n",
    "results.columns=[\"m\",\"threshold\",\"mean_precision\"]\n",
    "results=results.explode(\"mean_precision\")\n",
    "plot=sn.heatmap(pd.pivot_table(data=results,index=\"m\",columns='threshold',values='mean_precision')\n",
    "                ,annot=True,\n",
    "           cmap=\"Greens\")\n",
    "plot.set_title(\"mean precision score for 5 folds\")"
   ]
  },
  {
   "cell_type": "code",
   "execution_count": 30,
   "id": "9d3ca647",
   "metadata": {
    "execution": {
     "iopub.execute_input": "2023-07-10T21:55:23.878292Z",
     "iopub.status.busy": "2023-07-10T21:55:23.877372Z",
     "iopub.status.idle": "2023-07-10T21:55:24.252987Z",
     "shell.execute_reply": "2023-07-10T21:55:24.252103Z"
    },
    "papermill": {
     "duration": 0.579587,
     "end_time": "2023-07-10T21:55:24.255072",
     "exception": false,
     "start_time": "2023-07-10T21:55:23.675485",
     "status": "completed"
    },
    "tags": []
   },
   "outputs": [
    {
     "data": {
      "text/plain": [
       "Text(0.5, 1.0, 'mean recall score for 5 folds')"
      ]
     },
     "execution_count": 30,
     "metadata": {},
     "output_type": "execute_result"
    },
    {
     "data": {
      "image/png": "[encoded data removed]",
      "text/plain": [
       "<Figure size 640x480 with 2 Axes>"
      ]
     },
     "metadata": {},
     "output_type": "display_data"
    }
   ],
   "source": [
    "results=pd.DataFrame(mean_recall_score_dict)\n",
    "results=results.unstack().reset_index()\n",
    "results.columns=[\"m\",\"threshold\",\"mean_recall\"]\n",
    "results=results.explode(\"mean_recall\")\n",
    "plot=sn.heatmap(pd.pivot_table(data=results,index=\"m\",columns='threshold',values='mean_recall')\n",
    "                ,annot=True,\n",
    "           cmap=\"Greens\")\n",
    "plot.set_title(\"mean recall score for 5 folds\")"
   ]
  },
  {
   "cell_type": "code",
   "execution_count": 31,
   "id": "b050cfec",
   "metadata": {
    "execution": {
     "iopub.execute_input": "2023-07-10T21:55:24.656693Z",
     "iopub.status.busy": "2023-07-10T21:55:24.656342Z",
     "iopub.status.idle": "2023-07-10T21:56:17.183489Z",
     "shell.execute_reply": "2023-07-10T21:56:17.182426Z"
    },
    "papermill": {
     "duration": 52.729012,
     "end_time": "2023-07-10T21:56:17.185643",
     "exception": false,
     "start_time": "2023-07-10T21:55:24.456631",
     "status": "completed"
    },
    "tags": []
   },
   "outputs": [
    {
     "name": "stderr",
     "output_type": "stream",
     "text": [
      "\u001b[34m\u001b[1mwandb\u001b[0m: wandb version 0.15.5 is available!  To upgrade, please run:\n",
      "\u001b[34m\u001b[1mwandb\u001b[0m:  $ pip install wandb --upgrade\n",
      "\u001b[34m\u001b[1mwandb\u001b[0m: Tracking run with wandb version 0.15.4\n",
      "\u001b[34m\u001b[1mwandb\u001b[0m: Run data is saved locally in \u001b[35m\u001b[1m/kaggle/working/wandb/run-20230710_215524-qp372575\u001b[0m\n",
      "\u001b[34m\u001b[1mwandb\u001b[0m: Run \u001b[1m`wandb offline`\u001b[0m to turn off syncing.\n",
      "\u001b[34m\u001b[1mwandb\u001b[0m: Syncing run \u001b[33mpeach-bush-86\u001b[0m\n",
      "\u001b[34m\u001b[1mwandb\u001b[0m: ⭐️ View project at \u001b[34m\u001b[4mhttps://wandb.ai/raviteja_/FaceRecognition-kfold\u001b[0m\n",
      "\u001b[34m\u001b[1mwandb\u001b[0m: 🚀 View run at \u001b[34m\u001b[4mhttps://wandb.ai/raviteja_/FaceRecognition-kfold/runs/qp372575\u001b[0m\n",
      "\u001b[34m\u001b[1mwandb\u001b[0m: Waiting for W&B process to finish... \u001b[32m(success).\u001b[0m\n",
      "\u001b[34m\u001b[1mwandb\u001b[0m: 🚀 View run \u001b[33mpeach-bush-86\u001b[0m at: \u001b[34m\u001b[4mhttps://wandb.ai/raviteja_/FaceRecognition-kfold/runs/qp372575\u001b[0m\n",
      "\u001b[34m\u001b[1mwandb\u001b[0m: Synced 5 W&B file(s), 1 media file(s), 0 artifact file(s) and 0 other file(s)\n",
      "\u001b[34m\u001b[1mwandb\u001b[0m: Find logs at: \u001b[35m\u001b[1m./wandb/run-20230710_215524-qp372575/logs\u001b[0m\n"
     ]
    },
    {
     "data": {
      "image/png": "[encoded data removed]",
      "text/plain": [
       "<Figure size 640x480 with 2 Axes>"
      ]
     },
     "metadata": {},
     "output_type": "display_data"
    }
   ],
   "source": [
    "results=pd.DataFrame(mean_f1_score_dict)\n",
    "results=results.unstack().reset_index()\n",
    "results.columns=[\"m\",\"threshold\",\"mean_f1\"]\n",
    "results=results.explode(\"mean_f1\")\n",
    "heatmap=sn.heatmap(pd.pivot_table(data=results,index=\"m\",columns='threshold',values='mean_f1'),\n",
    "                   annot=True,cmap=\"Greens\")\n",
    "heatmap.set_title(\"mean f1 score for 5 folds\")\n",
    "Log_Plot(heatmap,\"mean_f1_score\",top_k)"
   ]
  },
  {
   "cell_type": "code",
   "execution_count": null,
   "id": "75552184",
   "metadata": {
    "papermill": {
     "duration": 0.199135,
     "end_time": "2023-07-10T21:56:17.585882",
     "exception": false,
     "start_time": "2023-07-10T21:56:17.386747",
     "status": "completed"
    },
    "tags": []
   },
   "outputs": [],
   "source": []
  }
 ],
 "metadata": {
  "kernelspec": {
   "display_name": "Python 3",
   "language": "python",
   "name": "python3"
  },
  "language_info": {
   "codemirror_mode": {
    "name": "ipython",
    "version": 3
   },
   "file_extension": ".py",
   "mimetype": "text/x-python",
   "name": "python",
   "nbconvert_exporter": "python",
   "pygments_lexer": "ipython3",
   "version": "3.10.10"
  },
  "papermill": {
   "default_parameters": {},
   "duration": 11173.873482,
   "end_time": "2023-07-10T21:56:22.073187",
   "environment_variables": {},
   "exception": null,
   "input_path": "__notebook__.ipynb",
   "output_path": "__notebook__.ipynb",
   "parameters": {},
   "start_time": "2023-07-10T18:50:08.199705",
   "version": "2.4.0"
  }
 },
 "nbformat": 4,
 "nbformat_minor": 5
}
